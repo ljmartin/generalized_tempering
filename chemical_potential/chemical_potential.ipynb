{
 "cells": [
  {
   "cell_type": "code",
   "execution_count": 1,
   "metadata": {},
   "outputs": [],
   "source": [
    "from simtk.openmm.app import *\n",
    "from simtk.openmm import *\n",
    "from simtk.unit import *\n",
    "import numpy as np\n",
    "import matplotlib.pyplot as plt\n",
    "import tqdm"
   ]
  },
  {
   "cell_type": "markdown",
   "metadata": {},
   "source": [
    "# Prelim: generate an OpenMM system from a single methane particle.\n",
    "Using a single (united atom) methane molecule PBD file to start, then adding solvent and ions with `Modeller`. The secret is to include an xml file (in this directory) containing the mass, atom name, and LJ/charge parameters. These parameters are the same as those used in: \n",
    "\n",
    "J. Chem. Phys. 135, 194110 (2011); https://doi.org/10.1063/1.3660669\n"
   ]
  },
  {
   "cell_type": "code",
   "execution_count": 39,
   "metadata": {},
   "outputs": [
    {
     "data": {
      "text/plain": [
       "4"
      ]
     },
     "execution_count": 39,
     "metadata": {},
     "output_type": "execute_result"
    }
   ],
   "source": [
    "pdb = PDBFile('single_methane.pdb')\n",
    "forcefield = ForceField('amber14/tip3pfb.xml', './methane.xml')\n",
    "\n",
    "modeller=Modeller(pdb.topology, pdb.positions)\n",
    "modeller.addSolvent(forcefield, padding=2*nanometer)\n",
    "\n",
    "system = forcefield.createSystem(modeller.topology, nonbondedMethod=CutoffPeriodic,\n",
    "        nonbondedCutoff=0.8*nanometer, constraints=HBonds)\n",
    "\n",
    "TEMPERATURE=283*kelvin\n",
    "PRESSURE = 1*atmosphere\n",
    "TIMESTEP = 2*femtoseconds\n",
    "\n",
    "barostat = MonteCarloBarostat(PRESSURE, TEMPERATURE)\n",
    "system.addForce(barostat)\n"
   ]
  },
  {
   "cell_type": "markdown",
   "metadata": {},
   "source": [
    "# Prelim: edit the nonbonded forces so that we can alchemically annihilate the LJ particle.\n",
    "\n",
    "There's a fair bit going on now. Basically we will keep the existing NonbondedForce, but set the epsilon and sigma parameters of the methane particle to zero. This has the effect of removing all nonbonded interactions between water and methane. To reproduce all the interactions that have just been lost, we introduce a CustomNonbondedForce. This force only consists of lennard-jones interactions (since the united atom methane is uncharged), and has an interaction group that restricts it to calculating only the interactions between methane and water. \n",
    "\n",
    "Crucially, this custom force has an added parameter - `scalingFactor` - that allows control over the strength of the interactions. This is essentially the `lambda` parameter commonly used in alchemical pertubation papers. At `scalingFactor=1`, all interactions are full strength and the system should behave normally. At `0 < scalingFactor < 1`, the particle is partially annihilated. At `scalingFactor=0`, the particle is completely annihilated.\n",
    "\n",
    "\n",
    "\n",
    "After defining the function that introduces the new force, we 'simply' create the force objects, add them to the `System` object, and remove the native `NonbondedForce`. "
   ]
  },
  {
   "cell_type": "code",
   "execution_count": 40,
   "metadata": {},
   "outputs": [
    {
     "data": {
      "text/plain": [
       "5"
      ]
     },
     "execution_count": 40,
     "metadata": {},
     "output_type": "execute_result"
    }
   ],
   "source": [
    "forces = { force.__class__.__name__ : force for force in system.getForces() }\n",
    "nbforce = forces['NonbondedForce']\n",
    "\n",
    "# Add a CustomNonbondedForce to handle only alchemically-modified interactions\n",
    "alchemical_particles = set([0])\n",
    "chemical_particles = set(range(system.getNumParticles())) - alchemical_particles\n",
    "\n",
    "\n",
    "##softcore lennard jones:\n",
    "#energy_function = 'lambda*4*epsilon*x*(x-1.0); x = (sigma/reff_sterics)^6;'\n",
    "#energy_function += 'reff_sterics = sigma*(0.5*(1.0-lambda) + (r/sigma)^6)^(1/6);'\n",
    "#energy_function += 'sigma = 0.5*(sigma1+sigma2); epsilon = sqrt(epsilon1*epsilon2);'\n",
    "\n",
    "#normal lennard jone:\n",
    "energy_expression = \"sterics;\"\n",
    "energy_expression += \"sterics=scalingFactor*4*epsilon*((sigma/r)^12 - (sigma/r)^6);\"\n",
    "energy_expression += \"epsilon = sqrt(epsilon1*epsilon2);\"\n",
    "energy_expression += \"sigma = 0.5*(sigma1+sigma2);\"\n",
    "\n",
    "custom_force = openmm.CustomNonbondedForce(energy_expression)\n",
    "custom_force.addGlobalParameter('scalingFactor', 1.0)\n",
    "custom_force.addPerParticleParameter('sigma')\n",
    "custom_force.addPerParticleParameter('epsilon')\n",
    "custom_force.setNonbondedMethod(2)\n",
    "custom_force.setCutoffDistance(0.8*nanometer)\n",
    "#custom_force.getUseSwitchingFunction()\n",
    "custom_force.setForceGroup(1)\n",
    "\n",
    "for index in range(system.getNumParticles()):\n",
    "    [charge, sigma, epsilon] = nbforce.getParticleParameters(index)\n",
    "    custom_force.addParticle([sigma, epsilon])\n",
    "custom_force.addInteractionGroup(alchemical_particles, chemical_particles)\n",
    "system.addForce(custom_force)\n"
   ]
  },
  {
   "cell_type": "code",
   "execution_count": 41,
   "metadata": {},
   "outputs": [],
   "source": [
    "#set the parameters for methane in the original nonbondedforce to zero:\n",
    "nbforce.setParticleParameters(0, 0*elementary_charge, 0*nanometer, 0*kilojoules_per_mole)"
   ]
  },
  {
   "cell_type": "code",
   "execution_count": 42,
   "metadata": {},
   "outputs": [
    {
     "name": "stdout",
     "output_type": "stream",
     "text": [
      "energy is: -119998.61239229504 kJ/mol\n"
     ]
    }
   ],
   "source": [
    "#finally, create the Simulation object:\n",
    "\n",
    "integrator = LangevinIntegrator(TEMPERATURE, 1/picosecond, TIMESTEP)\n",
    "platform = Platform.getPlatformByName('OpenCL')\n",
    "prop = {'OpenCLPrecision':'single'}\n",
    "\n",
    "simulation = Simulation(modeller.topology, system, integrator, platform, prop)\n",
    "simulation.context.setPositions(modeller.positions)\n",
    "simulation.context.setVelocitiesToTemperature(TEMPERATURE)\n",
    "\n",
    "PDBFile.writeFile(modeller.topology, modeller.positions, file=open('methane.pdb', 'w'))\n",
    "simulation.reporters.append(DCDReporter('methane.dcd', 1000))\n",
    "\n",
    "\n",
    "simulation.minimizeEnergy()\n",
    "\n",
    "\n",
    "print('energy is:', simulation.context.getState(getEnergy=True).getPotentialEnergy())"
   ]
  },
  {
   "cell_type": "markdown",
   "metadata": {},
   "source": [
    "# Prelim: run a short equilibration:\n"
   ]
  },
  {
   "cell_type": "code",
   "execution_count": 44,
   "metadata": {},
   "outputs": [
    {
     "name": "stderr",
     "output_type": "stream",
     "text": [
      "/home/lewis/miniconda3/envs/scra_cb1/lib/python3.7/site-packages/ipykernel_launcher.py:4: TqdmDeprecationWarning: This function will be removed in tqdm==5.0.0\n",
      "Please use `tqdm.notebook.tqdm` instead of `tqdm.tqdm_notebook`\n",
      "  after removing the cwd from sys.path.\n"
     ]
    },
    {
     "data": {
      "application/vnd.jupyter.widget-view+json": {
       "model_id": "82e036d4f8124d198759f0a6c6a78ff2",
       "version_major": 2,
       "version_minor": 0
      },
      "text/plain": [
       "HBox(children=(FloatProgress(value=0.0, max=2000.0), HTML(value='')))"
      ]
     },
     "metadata": {},
     "output_type": "display_data"
    },
    {
     "name": "stdout",
     "output_type": "stream",
     "text": [
      "\n"
     ]
    }
   ],
   "source": [
    "pes = list()\n",
    "group_p=list()\n",
    "vol = list()\n",
    "for _ in tqdm.tqdm_notebook(range(2000)):\n",
    "    simulation.step(100)\n",
    "    state = simulation.context.getState(getEnergy=True)\n",
    "    pe = state.getPotentialEnergy()\n",
    "    v = state.getPeriodicBoxVolume()    \n",
    "    pes.append(pe)\n",
    "    vol.append(v)\n",
    "    \n",
    "    \n",
    "    state = simulation.context.getState(getEnergy=True, groups={1})\n",
    "    p = state.getPotentialEnergy()\n",
    "    group_p.append(p)"
   ]
  },
  {
   "cell_type": "code",
   "execution_count": 45,
   "metadata": {},
   "outputs": [
    {
     "data": {
      "image/png": "[encoded data removed]",
      "text/plain": [
       "<Figure size 720x360 with 1 Axes>"
      ]
     },
     "metadata": {
      "needs_background": "light"
     },
     "output_type": "display_data"
    }
   ],
   "source": [
    "fig, ax = plt.subplots()\n",
    "\n",
    "fig.set_figwidth(10)\n",
    "fig.set_figheight(5)\n",
    "\n",
    "ax.plot([i/kilojoule*mole for i in pes])\n",
    "\n",
    "#we check visually that it's equilibrated, and can then save the positions and velocities. \n",
    "state = simulation.context.getState(getPositions=True, getVelocities=True)\n",
    "equilibrated_positions = state.getPositions()\n",
    "equilibrated_velocities = state.getVelocities()"
   ]
  },
  {
   "cell_type": "code",
   "execution_count": 46,
   "metadata": {},
   "outputs": [
    {
     "data": {
      "image/png": "[encoded data removed]",
      "text/plain": [
       "<Figure size 720x360 with 1 Axes>"
      ]
     },
     "metadata": {
      "needs_background": "light"
     },
     "output_type": "display_data"
    }
   ],
   "source": [
    "#plot just the energy of the methane nonbonded interactions:\n",
    "fig, ax = plt.subplots()\n",
    "\n",
    "fig.set_figwidth(10)\n",
    "fig.set_figheight(5)\n",
    "\n",
    "ax.plot([i/kilojoule*mole for i in group_p])"
   ]
  },
  {
   "cell_type": "markdown",
   "metadata": {},
   "source": [
    "# Estimate weights (free energy) for alchemical annihilation\n",
    "\n",
    "This is equivalent to estimating the chemical potential of methane in this system. "
   ]
  },
  {
   "cell_type": "code",
   "execution_count": 47,
   "metadata": {},
   "outputs": [],
   "source": [
    "def scaling_function(simulation, level):\n",
    "    simulation.context.setParameter('scalingFactor', level)\n",
    "    \n",
    "    \n",
    "from gsst import GSST\n",
    "levels = np.linspace(1,0,10)\n",
    "levels = [1,0.75, 0.5, 0.3, 0.1, 0.05, 0.01,0.005,0.001, 0]\n",
    "st = GSST(simulation=simulation, \n",
    "                              scaling_function=scaling_function,\n",
    "                             levels=levels, \n",
    "                              changeInterval=1500,\n",
    "                              cutoff=1e-6,\n",
    "                              baseTemp=298*kelvin,\n",
    "                              reportFile='methane.dat'\n",
    "                             )"
   ]
  },
  {
   "cell_type": "code",
   "execution_count": 49,
   "metadata": {},
   "outputs": [
    {
     "name": "stdout",
     "output_type": "stream",
     "text": [
      "-104310.20293020738 kJ/mol\n",
      "-104306.34355520738 kJ/mol\n",
      "-104302.49199270738 kJ/mol\n",
      "-104299.40605520738 kJ/mol\n",
      "-104296.32011770738 kJ/mol\n",
      "-104295.55449270738 kJ/mol\n",
      "-104294.92949270738 kJ/mol\n",
      "-104294.85136770738 kJ/mol\n",
      "-104294.78886770738 kJ/mol\n",
      "-104294.77324270738 kJ/mol\n"
     ]
    }
   ],
   "source": [
    "for level in levels:\n",
    "    scaling_function(simulation, level)\n",
    "    state = simulation.context.getState(getEnergy=True).getPotentialEnergy()\n",
    "    print(state)"
   ]
  },
  {
   "cell_type": "code",
   "execution_count": 53,
   "metadata": {
    "scrolled": true
   },
   "outputs": [
    {
     "name": "stdout",
     "output_type": "stream",
     "text": [
      "Progress towards cutoff\n",
      "left:_weightUpdateFactor=1;\n",
      "right:_weightUpdateFactor=1e-8\n",
      "Finished\n"
     ]
    }
   ],
   "source": [
    "print('Progress towards cutoff\\nleft:_weightUpdateFactor=1;\\nright:_weightUpdateFactor=1e-8')\n",
    "while st._weightUpdateFactor>1e-6:\n",
    "    simulation.step(1500)\n",
    " #   print(st.currentLevel, st._weightUpdateFactor, st._weights)\n",
    "    \n",
    "    #homemade progress bar:\n",
    "    fraction = np.abs(np.log10(st._weightUpdateFactor)/6)\n",
    "    print('|' + ' '*int((100*fraction)) + '*' + ' '*int(100*(1-fraction)) + '|', end='\\r')\n",
    "print('Finished')"
   ]
  },
  {
   "cell_type": "markdown",
   "metadata": {},
   "source": [
    "# Now estimate the chemical potential using MBAR"
   ]
  },
  {
   "cell_type": "code",
   "execution_count": 54,
   "metadata": {
    "scrolled": true
   },
   "outputs": [
    {
     "data": {
      "application/vnd.jupyter.widget-view+json": {
       "model_id": "ea096ba3a0634e7394c3108f43827c53",
       "version_major": 2,
       "version_minor": 0
      },
      "text/plain": [
       "HBox(children=(FloatProgress(value=0.0, max=10.0), HTML(value='')))"
      ]
     },
     "metadata": {},
     "output_type": "display_data"
    },
    {
     "data": {
      "application/vnd.jupyter.widget-view+json": {
       "model_id": "172005ff4f1d4d918849958bd7a0d962",
       "version_major": 2,
       "version_minor": 0
      },
      "text/plain": [
       "HBox(children=(FloatProgress(value=0.0, max=200.0), HTML(value='')))"
      ]
     },
     "metadata": {},
     "output_type": "display_data"
    },
    {
     "name": "stdout",
     "output_type": "stream",
     "text": [
      "\n"
     ]
    },
    {
     "data": {
      "application/vnd.jupyter.widget-view+json": {
       "model_id": "0292e80056544ab5901fed2e5a06d8fe",
       "version_major": 2,
       "version_minor": 0
      },
      "text/plain": [
       "HBox(children=(FloatProgress(value=0.0, max=200.0), HTML(value='')))"
      ]
     },
     "metadata": {},
     "output_type": "display_data"
    },
    {
     "name": "stdout",
     "output_type": "stream",
     "text": [
      "\n"
     ]
    },
    {
     "data": {
      "application/vnd.jupyter.widget-view+json": {
       "model_id": "46801bdcf23a4497a22cd93258c236fc",
       "version_major": 2,
       "version_minor": 0
      },
      "text/plain": [
       "HBox(children=(FloatProgress(value=0.0, max=200.0), HTML(value='')))"
      ]
     },
     "metadata": {},
     "output_type": "display_data"
    },
    {
     "name": "stdout",
     "output_type": "stream",
     "text": [
      "\n"
     ]
    },
    {
     "data": {
      "application/vnd.jupyter.widget-view+json": {
       "model_id": "8b76120b352946fe8e889b9fd826008b",
       "version_major": 2,
       "version_minor": 0
      },
      "text/plain": [
       "HBox(children=(FloatProgress(value=0.0, max=200.0), HTML(value='')))"
      ]
     },
     "metadata": {},
     "output_type": "display_data"
    },
    {
     "name": "stdout",
     "output_type": "stream",
     "text": [
      "\n"
     ]
    },
    {
     "data": {
      "application/vnd.jupyter.widget-view+json": {
       "model_id": "da6ccb8f68e74514b79077c59c0205d2",
       "version_major": 2,
       "version_minor": 0
      },
      "text/plain": [
       "HBox(children=(FloatProgress(value=0.0, max=200.0), HTML(value='')))"
      ]
     },
     "metadata": {},
     "output_type": "display_data"
    },
    {
     "name": "stdout",
     "output_type": "stream",
     "text": [
      "\n"
     ]
    },
    {
     "data": {
      "application/vnd.jupyter.widget-view+json": {
       "model_id": "ef6f9b9023784037b17359da07c6c96e",
       "version_major": 2,
       "version_minor": 0
      },
      "text/plain": [
       "HBox(children=(FloatProgress(value=0.0, max=200.0), HTML(value='')))"
      ]
     },
     "metadata": {},
     "output_type": "display_data"
    },
    {
     "name": "stdout",
     "output_type": "stream",
     "text": [
      "\n"
     ]
    },
    {
     "data": {
      "application/vnd.jupyter.widget-view+json": {
       "model_id": "a3368a2564f64103a380a7f06131cbdb",
       "version_major": 2,
       "version_minor": 0
      },
      "text/plain": [
       "HBox(children=(FloatProgress(value=0.0, max=200.0), HTML(value='')))"
      ]
     },
     "metadata": {},
     "output_type": "display_data"
    },
    {
     "name": "stdout",
     "output_type": "stream",
     "text": [
      "\n"
     ]
    },
    {
     "data": {
      "application/vnd.jupyter.widget-view+json": {
       "model_id": "5480bd1f9d4440888578d028a31b8227",
       "version_major": 2,
       "version_minor": 0
      },
      "text/plain": [
       "HBox(children=(FloatProgress(value=0.0, max=200.0), HTML(value='')))"
      ]
     },
     "metadata": {},
     "output_type": "display_data"
    },
    {
     "name": "stdout",
     "output_type": "stream",
     "text": [
      "\n"
     ]
    },
    {
     "data": {
      "application/vnd.jupyter.widget-view+json": {
       "model_id": "4251caf9fc7746f08fcda9d5b1797835",
       "version_major": 2,
       "version_minor": 0
      },
      "text/plain": [
       "HBox(children=(FloatProgress(value=0.0, max=200.0), HTML(value='')))"
      ]
     },
     "metadata": {},
     "output_type": "display_data"
    },
    {
     "name": "stdout",
     "output_type": "stream",
     "text": [
      "\n"
     ]
    },
    {
     "data": {
      "application/vnd.jupyter.widget-view+json": {
       "model_id": "62ac210e325547f68e4235eca1a3fa10",
       "version_major": 2,
       "version_minor": 0
      },
      "text/plain": [
       "HBox(children=(FloatProgress(value=0.0, max=200.0), HTML(value='')))"
      ]
     },
     "metadata": {},
     "output_type": "display_data"
    },
    {
     "name": "stdout",
     "output_type": "stream",
     "text": [
      "\n",
      "\n"
     ]
    }
   ],
   "source": [
    "simulation.reporters.pop()\n",
    "simulation.context.setPositions(equilibrated_positions)\n",
    "simulation.context.setVelocities(equilibrated_velocities)\n",
    "\n",
    "\n",
    "\n",
    "# Collect data\n",
    "nsteps = 1500 # number of steps inbetween sampling the potential energy\n",
    "niterations = 300 # number of samples to collect at each separation distance. \n",
    "\n",
    "#reverse the levels, since we don't want to sample for a long time at the annihilated state and then \n",
    "#accidentally bring the particle back into existence on top of a water molecule.\n",
    "\n",
    "nstates = len(levels)\n",
    "u_kln = np.zeros([nstates,nstates,niterations], np.float64)\n",
    "kT = AVOGADRO_CONSTANT_NA * BOLTZMANN_CONSTANT_kB * simulation.integrator.getTemperature()\n",
    "\n",
    "for k in tqdm.notebook.tqdm(range(nstates)):\n",
    "    for iteration in tqdm.notebook.tqdm(range(niterations)):\n",
    "        # Set the separation distance:\n",
    "        scaling_function(simulation, levels[k])\n",
    "        # Sample in MD-space for a bit:\n",
    "        simulation.step(nsteps)\n",
    "        # Compute what the energy of the current configuration would be at ALL separations,\n",
    "        # this is used to calculate energetic overlap between the states. \n",
    "        for l in range(nstates):\n",
    "            scaling_function(simulation, levels[l])\n",
    "            u_kln[k,l,iteration] = simulation.context.getState(getEnergy=True).getPotentialEnergy() / kT\n",
    "            \n",
    "levels = levels[::-1]"
   ]
  },
  {
   "cell_type": "code",
   "execution_count": 55,
   "metadata": {},
   "outputs": [],
   "source": [
    "# Estimate free energy of Lennard-Jones particle insertion\n",
    "from pymbar import MBAR, timeseries\n",
    "# Subsample data to extract uncorrelated equilibrium timeseries\n",
    "N_k = np.zeros([nstates], np.int32) # number of uncorrelated samples\n",
    "for k in range(nstates):\n",
    "    [nequil, g, Neff_max] = timeseries.detectEquilibration(u_kln[k,k,:])\n",
    "    indices = timeseries.subsampleCorrelatedData(u_kln[k,k,:], g=g)\n",
    "    N_k[k] = len(indices)\n",
    "    u_kln[k,:,0:N_k[k]] = u_kln[k,:,indices].T\n",
    "# Compute free energy differences and statistical uncertainties\n",
    "mbar = MBAR(u_kln, N_k)\n",
    "[DeltaF_ij, dDeltaF_ij,] = mbar.getFreeEnergyDifferences()\n"
   ]
  },
  {
   "cell_type": "code",
   "execution_count": 56,
   "metadata": {},
   "outputs": [],
   "source": [
    "# save the outputs if you want to replot later:\n",
    "np.save('u_kln_methane_mbar.npy', u_kln)"
   ]
  },
  {
   "cell_type": "markdown",
   "metadata": {},
   "source": [
    "# Plot the difference"
   ]
  },
  {
   "cell_type": "code",
   "execution_count": 57,
   "metadata": {},
   "outputs": [
    {
     "data": {
      "image/png": "[encoded data removed]",
      "text/plain": [
       "<Figure size 720x360 with 1 Axes>"
      ]
     },
     "metadata": {
      "needs_background": "light"
     },
     "output_type": "display_data"
    }
   ],
   "source": [
    "plt.figure(figsize=(10,5))\n",
    "\n",
    "plt.errorbar(x=levels[::-1], \n",
    "             y=DeltaF_ij[0], \n",
    "             yerr = dDeltaF_ij[0], fmt='-o', mfc='none', label='MBAR estimate')\n",
    "\n",
    "plt.plot(levels[::-1], \n",
    "             st.weights, '-o', mfc='white',label='GSST estimate')\n",
    "\n",
    "plt.title('Free energy of methane annihilation using MBAR or Wang-Landau+tempering')\n",
    "plt.legend()\n",
    "plt.ylabel('Free energy (kT)')\n",
    "plt.xlabel('Lambda parameter (0=non-interacting, 1=fully interacting)')\n",
    "plt.axhline(0, linestyle='--', c='k')\n",
    "\n",
    "plt.savefig('chemical_potential.png')"
   ]
  }
 ],
 "metadata": {
  "kernelspec": {
   "display_name": "Python 3",
   "language": "python",
   "name": "python3"
  },
  "language_info": {
   "codemirror_mode": {
    "name": "ipython",
    "version": 3
   },
   "file_extension": ".py",
   "mimetype": "text/x-python",
   "name": "python",
   "nbconvert_exporter": "python",
   "pygments_lexer": "ipython3",
   "version": "3.7.6"
  }
 },
 "nbformat": 4,
 "nbformat_minor": 4
}
