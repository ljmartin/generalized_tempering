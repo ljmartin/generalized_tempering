{
 "cells": [
  {
   "cell_type": "code",
   "execution_count": 1,
   "metadata": {},
   "outputs": [],
   "source": [
    "from simtk.openmm.app import *\n",
    "from simtk.openmm import *\n",
    "from simtk.unit import *\n",
    "import numpy as np\n",
    "import matplotlib.pyplot as plt\n",
    "import tqdm\n"
   ]
  },
  {
   "cell_type": "markdown",
   "metadata": {},
   "source": [
    "# Prelim: generate an OpenMM system with Na and Cl ions in it to calculate the PMF over separation distance\n",
    "Using a single water molecule PBD file to start, then adding solvent and ions with `Modeller`. We start with a pdb file holding just a single water. The first-occurring sodium and chloride atoms are chosen for biasing.  \n"
   ]
  },
  {
   "cell_type": "code",
   "execution_count": 2,
   "metadata": {},
   "outputs": [],
   "source": [
    "pdb = PDBFile('tip3p-1.pdb')\n",
    "omm_forcefield= ForceField('amber14/tip3pfb.xml')\n",
    "modeller = Modeller(pdb.topology, pdb.positions)\n",
    "modeller.addSolvent(omm_forcefield, ionicStrength=0.15*molar)\n",
    "PDBFile.writeFile(modeller.topology, modeller.positions, file=open('solvated.pdb', 'w'))\n",
    "\n",
    "sod = [i.index for i in modeller.topology.atoms() if i.residue.name=='NA'][0]\n",
    "cla = [i.index for i in modeller.topology.atoms() if i.residue.name=='CL'][0]\n"
   ]
  },
  {
   "cell_type": "markdown",
   "metadata": {},
   "source": [
    "# Prelim: create system, and add a custom force biasing the ion separation\n",
    "\n",
    "`r0` will be the name of the parameter controlling separation, i.e. it is the centre of the restraint that holds the two ions at a particular distance apart."
   ]
  },
  {
   "cell_type": "code",
   "execution_count": 3,
   "metadata": {},
   "outputs": [],
   "source": [
    "system = omm_forcefield.createSystem(modeller.topology, nonbondedMethod=PME,\n",
    "         nonbondedCutoff=0.9*nanometer, constraints=HBonds)\n",
    "\n",
    "\n",
    "nrg_expr = \"k*(r-r0)^2\"\n",
    "ion_force = CustomBondForce(nrg_expr)\n",
    "ion_force.addGlobalParameter('k', 100*kilocalorie_per_mole**2)\n",
    "ion_force.addGlobalParameter('r0', 1*nanometer) \n",
    "ion_force.addBond(sod, cla, [])\n",
    "ion_force.setUsesPeriodicBoundaryConditions(True)\n",
    "system.addForce(ion_force)\n",
    "\n",
    "integrator = LangevinIntegrator(298*kelvin, 1/picosecond, 2*femtosecond)\n",
    "platform = Platform.getPlatformByName('OpenCL')\n",
    "prop = {'OpenCLPrecision':'single'}\n",
    "\n",
    "simulation = Simulation(modeller.topology, system, integrator, platform, prop)\n",
    "simulation.context.setPositions(modeller.positions)\n",
    "simulation.minimizeEnergy()"
   ]
  },
  {
   "cell_type": "markdown",
   "metadata": {},
   "source": [
    "# Prelim: run a short equilibration "
   ]
  },
  {
   "cell_type": "code",
   "execution_count": 4,
   "metadata": {
    "scrolled": true
   },
   "outputs": [
    {
     "data": {
      "application/vnd.jupyter.widget-view+json": {
       "model_id": "ee880ac81ed24a85a7189ef11ffdf5b0",
       "version_major": 2,
       "version_minor": 0
      },
      "text/plain": [
       "HBox(children=(IntProgress(value=0, max=1000), HTML(value='')))"
      ]
     },
     "metadata": {},
     "output_type": "display_data"
    },
    {
     "name": "stdout",
     "output_type": "stream",
     "text": [
      "\n"
     ]
    }
   ],
   "source": [
    "pe = list()\n",
    "distances = list()\n",
    "for i in tqdm.tqdm_notebook(range(1000)):\n",
    "    simulation.step(50)\n",
    "    state = simulation.context.getState(getEnergy=True)\n",
    "    nrg = state.getPotentialEnergy()\n",
    "    pe.append(nrg)"
   ]
  },
  {
   "cell_type": "code",
   "execution_count": 5,
   "metadata": {},
   "outputs": [
    {
     "data": {
      "text/plain": [
       "[<matplotlib.lines.Line2D at 0x7f4282bf1710>]"
      ]
     },
     "execution_count": 5,
     "metadata": {},
     "output_type": "execute_result"
    },
    {
     "data": {
      "image/png": "[encoded data removed]",
      "text/plain": [
       "<Figure size 720x360 with 1 Axes>"
      ]
     },
     "metadata": {
      "needs_background": "light"
     },
     "output_type": "display_data"
    }
   ],
   "source": [
    "fig, ax = plt.subplots()\n",
    "\n",
    "fig.set_figwidth(10)\n",
    "fig.set_figheight(5)\n",
    "\n",
    "ax.plot([i/kilojoule*mole for i in pe])\n"
   ]
  },
  {
   "cell_type": "markdown",
   "metadata": {},
   "source": [
    "# Calculate the PMF of ion separation with MBAR\n",
    "\n",
    "The code for taking measurements in a convenient pyMBAR format, and then for analyzing the results with pyMBAR, is taken from http://openmm.org/tutorials/alchemical-free-energy/ .\n",
    "\n",
    "Because this system is fairly forgiving, we don't worry about the restraint jumping from 0.875nm back to 0.15nm at each repeat. Ordinarily you might adjust the level by one step at a time.  "
   ]
  },
  {
   "cell_type": "code",
   "execution_count": 6,
   "metadata": {},
   "outputs": [
    {
     "data": {
      "text/plain": [
       "array([0.15 , 0.185, 0.22 , 0.255, 0.29 , 0.325, 0.36 , 0.395, 0.43 ,\n",
       "       0.465, 0.5  , 0.535, 0.57 , 0.605, 0.64 , 0.675, 0.71 , 0.745,\n",
       "       0.78 , 0.815, 0.85 , 0.885])"
      ]
     },
     "execution_count": 6,
     "metadata": {},
     "output_type": "execute_result"
    }
   ],
   "source": [
    "#this is just a shortcut to change the `r0` parameter\n",
    "def scaling_function(simulation, level):\n",
    "    simulation.context.setParameter('r0', level)\n",
    "    \n",
    "\n",
    "#we will calculate the PMF for points between 0.15 nm and 0.9 nm\n",
    "levels = np.arange(1.5,9.01,0.35)/10\n",
    "levels"
   ]
  },
  {
   "cell_type": "code",
   "execution_count": 7,
   "metadata": {
    "scrolled": true
   },
   "outputs": [
    {
     "data": {
      "application/vnd.jupyter.widget-view+json": {
       "model_id": "3248ad12f98d492ab8ae05c40a469e36",
       "version_major": 2,
       "version_minor": 0
      },
      "text/plain": [
       "HBox(children=(IntProgress(value=0, max=22), HTML(value='')))"
      ]
     },
     "metadata": {},
     "output_type": "display_data"
    },
    {
     "data": {
      "application/vnd.jupyter.widget-view+json": {
       "model_id": "6563ebbdd5274fee80e1859a802de5a2",
       "version_major": 2,
       "version_minor": 0
      },
      "text/plain": [
       "HBox(children=(IntProgress(value=0), HTML(value='')))"
      ]
     },
     "metadata": {},
     "output_type": "display_data"
    },
    {
     "data": {
      "application/vnd.jupyter.widget-view+json": {
       "model_id": "594739011b8542bca250a9591a97a53b",
       "version_major": 2,
       "version_minor": 0
      },
      "text/plain": [
       "HBox(children=(IntProgress(value=0), HTML(value='')))"
      ]
     },
     "metadata": {},
     "output_type": "display_data"
    },
    {
     "data": {
      "application/vnd.jupyter.widget-view+json": {
       "model_id": "d5b95c10bbed49cd968aafbaace897c2",
       "version_major": 2,
       "version_minor": 0
      },
      "text/plain": [
       "HBox(children=(IntProgress(value=0), HTML(value='')))"
      ]
     },
     "metadata": {},
     "output_type": "display_data"
    },
    {
     "data": {
      "application/vnd.jupyter.widget-view+json": {
       "model_id": "bd371ddc772f4235aefdcef96139c19a",
       "version_major": 2,
       "version_minor": 0
      },
      "text/plain": [
       "HBox(children=(IntProgress(value=0), HTML(value='')))"
      ]
     },
     "metadata": {},
     "output_type": "display_data"
    },
    {
     "data": {
      "application/vnd.jupyter.widget-view+json": {
       "model_id": "eb82db86251045ee9560b6d875dd8a72",
       "version_major": 2,
       "version_minor": 0
      },
      "text/plain": [
       "HBox(children=(IntProgress(value=0), HTML(value='')))"
      ]
     },
     "metadata": {},
     "output_type": "display_data"
    },
    {
     "data": {
      "application/vnd.jupyter.widget-view+json": {
       "model_id": "348cf42718d34dbd997c0567d56c4c62",
       "version_major": 2,
       "version_minor": 0
      },
      "text/plain": [
       "HBox(children=(IntProgress(value=0), HTML(value='')))"
      ]
     },
     "metadata": {},
     "output_type": "display_data"
    },
    {
     "data": {
      "application/vnd.jupyter.widget-view+json": {
       "model_id": "89781a3ced614d4eade7353978c92b4b",
       "version_major": 2,
       "version_minor": 0
      },
      "text/plain": [
       "HBox(children=(IntProgress(value=0), HTML(value='')))"
      ]
     },
     "metadata": {},
     "output_type": "display_data"
    },
    {
     "data": {
      "application/vnd.jupyter.widget-view+json": {
       "model_id": "7ede15464f654e44841d584c07d79da2",
       "version_major": 2,
       "version_minor": 0
      },
      "text/plain": [
       "HBox(children=(IntProgress(value=0), HTML(value='')))"
      ]
     },
     "metadata": {},
     "output_type": "display_data"
    },
    {
     "data": {
      "application/vnd.jupyter.widget-view+json": {
       "model_id": "00c66299c9c34812bd7873a092ef547b",
       "version_major": 2,
       "version_minor": 0
      },
      "text/plain": [
       "HBox(children=(IntProgress(value=0), HTML(value='')))"
      ]
     },
     "metadata": {},
     "output_type": "display_data"
    },
    {
     "data": {
      "application/vnd.jupyter.widget-view+json": {
       "model_id": "666a6449d395475baeea4ef6d714d856",
       "version_major": 2,
       "version_minor": 0
      },
      "text/plain": [
       "HBox(children=(IntProgress(value=0), HTML(value='')))"
      ]
     },
     "metadata": {},
     "output_type": "display_data"
    },
    {
     "data": {
      "application/vnd.jupyter.widget-view+json": {
       "model_id": "68dacdce17654affb95f42bc2f9e020e",
       "version_major": 2,
       "version_minor": 0
      },
      "text/plain": [
       "HBox(children=(IntProgress(value=0), HTML(value='')))"
      ]
     },
     "metadata": {},
     "output_type": "display_data"
    },
    {
     "data": {
      "application/vnd.jupyter.widget-view+json": {
       "model_id": "7c6f212cbba84477af5a04dd2428ee68",
       "version_major": 2,
       "version_minor": 0
      },
      "text/plain": [
       "HBox(children=(IntProgress(value=0), HTML(value='')))"
      ]
     },
     "metadata": {},
     "output_type": "display_data"
    },
    {
     "data": {
      "application/vnd.jupyter.widget-view+json": {
       "model_id": "f3371000bf094e469cbe3a2a9249f551",
       "version_major": 2,
       "version_minor": 0
      },
      "text/plain": [
       "HBox(children=(IntProgress(value=0), HTML(value='')))"
      ]
     },
     "metadata": {},
     "output_type": "display_data"
    },
    {
     "data": {
      "application/vnd.jupyter.widget-view+json": {
       "model_id": "d1604124cecd450690cc750fa41e5968",
       "version_major": 2,
       "version_minor": 0
      },
      "text/plain": [
       "HBox(children=(IntProgress(value=0), HTML(value='')))"
      ]
     },
     "metadata": {},
     "output_type": "display_data"
    },
    {
     "data": {
      "application/vnd.jupyter.widget-view+json": {
       "model_id": "42e6e37fdbe9448080e031b45b01a268",
       "version_major": 2,
       "version_minor": 0
      },
      "text/plain": [
       "HBox(children=(IntProgress(value=0), HTML(value='')))"
      ]
     },
     "metadata": {},
     "output_type": "display_data"
    },
    {
     "data": {
      "application/vnd.jupyter.widget-view+json": {
       "model_id": "48d716367fae46d1bbe4ea0531c67a5b",
       "version_major": 2,
       "version_minor": 0
      },
      "text/plain": [
       "HBox(children=(IntProgress(value=0), HTML(value='')))"
      ]
     },
     "metadata": {},
     "output_type": "display_data"
    },
    {
     "data": {
      "application/vnd.jupyter.widget-view+json": {
       "model_id": "14e7ea91aaa944fb92a1d516e1a3ffb9",
       "version_major": 2,
       "version_minor": 0
      },
      "text/plain": [
       "HBox(children=(IntProgress(value=0), HTML(value='')))"
      ]
     },
     "metadata": {},
     "output_type": "display_data"
    },
    {
     "data": {
      "application/vnd.jupyter.widget-view+json": {
       "model_id": "b8d1485828ba46eba735bbccafb20aa8",
       "version_major": 2,
       "version_minor": 0
      },
      "text/plain": [
       "HBox(children=(IntProgress(value=0), HTML(value='')))"
      ]
     },
     "metadata": {},
     "output_type": "display_data"
    },
    {
     "data": {
      "application/vnd.jupyter.widget-view+json": {
       "model_id": "ff57c9e9eae1475ba28559749a72446e",
       "version_major": 2,
       "version_minor": 0
      },
      "text/plain": [
       "HBox(children=(IntProgress(value=0), HTML(value='')))"
      ]
     },
     "metadata": {},
     "output_type": "display_data"
    },
    {
     "data": {
      "application/vnd.jupyter.widget-view+json": {
       "model_id": "5ebd0e9a8f144fcebe134a4ca0f67965",
       "version_major": 2,
       "version_minor": 0
      },
      "text/plain": [
       "HBox(children=(IntProgress(value=0), HTML(value='')))"
      ]
     },
     "metadata": {},
     "output_type": "display_data"
    },
    {
     "data": {
      "application/vnd.jupyter.widget-view+json": {
       "model_id": "890c55c9be5a4dc1b996c6d422af1a47",
       "version_major": 2,
       "version_minor": 0
      },
      "text/plain": [
       "HBox(children=(IntProgress(value=0), HTML(value='')))"
      ]
     },
     "metadata": {},
     "output_type": "display_data"
    },
    {
     "data": {
      "application/vnd.jupyter.widget-view+json": {
       "model_id": "02d060ea9acc413fb5e1e299e6fcc379",
       "version_major": 2,
       "version_minor": 0
      },
      "text/plain": [
       "HBox(children=(IntProgress(value=0), HTML(value='')))"
      ]
     },
     "metadata": {},
     "output_type": "display_data"
    },
    {
     "name": "stdout",
     "output_type": "stream",
     "text": [
      "\n"
     ]
    }
   ],
   "source": [
    "\n",
    "\n",
    "# Collect data\n",
    "nsteps = 1000 # number of steps inbetween sampling the potential energy\n",
    "niterations = 100 # number of samples to collect at each separation distance. \n",
    "\n",
    "\n",
    "nstates = len(levels)\n",
    "u_kln = np.zeros([nstates,nstates,niterations], np.float64)\n",
    "kT = AVOGADRO_CONSTANT_NA * BOLTZMANN_CONSTANT_kB * simulation.integrator.getTemperature()\n",
    "\n",
    "\n",
    "for k in tqdm.tqdm_notebook(range(nstates)):\n",
    "    for iteration in tqdm.tqdm_notebook(range(niterations)):\n",
    "        # Set the separation distance:\n",
    "        scaling_function(simulation, levels[k])\n",
    "        # Sample in MD-space for a bit:\n",
    "        simulation.step(nsteps)\n",
    "        # Compute what the energy of the current configuration would be at ALL separations,\n",
    "        # this is used to calculate energetic overlap between the states. \n",
    "        for l in range(nstates):\n",
    "            scaling_function(simulation, levels[l])\n",
    "            u_kln[k,l,iteration] = simulation.context.getState(getEnergy=True).getPotentialEnergy() / kT\n"
   ]
  },
  {
   "cell_type": "code",
   "execution_count": 8,
   "metadata": {},
   "outputs": [],
   "source": [
    "# Estimate free energy of Lennard-Jones particle insertion\n",
    "from pymbar import MBAR, timeseries\n",
    "# Subsample data to extract uncorrelated equilibrium timeseries\n",
    "N_k = np.zeros([nstates], np.int32) # number of uncorrelated samples\n",
    "for k in range(nstates):\n",
    "    [nequil, g, Neff_max] = timeseries.detectEquilibration(u_kln[k,k,:])\n",
    "    indices = timeseries.subsampleCorrelatedData(u_kln[k,k,:], g=g)\n",
    "    N_k[k] = len(indices)\n",
    "    u_kln[k,:,0:N_k[k]] = u_kln[k,:,indices].T\n",
    "# Compute free energy differences and statistical uncertainties\n",
    "mbar = MBAR(u_kln, N_k)\n",
    "[DeltaF_ij, dDeltaF_ij,] = mbar.getFreeEnergyDifferences()\n"
   ]
  },
  {
   "cell_type": "code",
   "execution_count": 9,
   "metadata": {},
   "outputs": [],
   "source": [
    "# save the outputs if you want to replot later:\n",
    "np.save('u_kln_mbar.npy', u_kln)"
   ]
  },
  {
   "cell_type": "markdown",
   "metadata": {},
   "source": [
    "# Estimate the weights (i.e. free energy) using GSST \n",
    "\n"
   ]
  },
  {
   "cell_type": "code",
   "execution_count": 10,
   "metadata": {},
   "outputs": [],
   "source": [
    "#this is just a shortcut to change the `r0` parameter\n",
    "def scaling_function(simulation, level):\n",
    "    simulation.context.setParameter('r0', level)\n",
    "    \n",
    "    \n",
    "    \n",
    "import sys\n",
    "sys.path.append(\"..\")\n",
    "from gsst import GSST\n",
    "\n",
    "cutoff = 1e-3\n",
    "st = GSST(simulation=simulation, \n",
    "                              scaling_function=scaling_function,\n",
    "                             levels=levels, \n",
    "                              changeInterval=1000,\n",
    "                              cutoff=cutoff,\n",
    "                              baseTemp=298*kelvin,\n",
    "                              reportFile='gsst.dat'\n",
    "                             )\n",
    "\n",
    "#normally GSST starts from the zeroth state, but the ion is starting from a different state. \n",
    "#and would have to zoom back to the beginning! \n",
    "#Instead, set the currentLevel at any point, i.e. the final state used in MBAR, `k`.\n",
    "st.currentLevel = k"
   ]
  },
  {
   "cell_type": "code",
   "execution_count": 11,
   "metadata": {},
   "outputs": [
    {
     "name": "stdout",
     "output_type": "stream",
     "text": [
      "Progress towards cutoff\n",
      "Start:_weightUpdateFactor=1;\n",
      "End:_weightUpdateFactor=0.001\n",
      "Start|                                                                                                    *|End\n",
      "Finished\n"
     ]
    }
   ],
   "source": [
    "print(f'Progress towards cutoff\\nStart:_weightUpdateFactor=1;\\nEnd:_weightUpdateFactor={cutoff}')\n",
    "while st._weightUpdateFactor>cutoff:\n",
    "    simulation.step(1000)\n",
    " #   print(st.currentLevel, st._weightUpdateFactor, st._weights)\n",
    "    \n",
    "    #homemade progress bar:\n",
    "    fraction = np.abs(np.log10(st._weightUpdateFactor)/(-np.log10(cutoff)))\n",
    "    print('Start|' + ' '*int((100*fraction)) + '*' + ' '*int(100*(1-fraction)) + '|End', end='\\r')\n",
    "print('\\nFinished')"
   ]
  },
  {
   "cell_type": "code",
   "execution_count": 12,
   "metadata": {},
   "outputs": [
    {
     "data": {
      "text/plain": [
       "0.0009765625"
      ]
     },
     "execution_count": 12,
     "metadata": {},
     "output_type": "execute_result"
    }
   ],
   "source": [
    "#check that it's below the update factor is below the cutoff, indicating convergence. \n",
    "st._weightUpdateFactor"
   ]
  },
  {
   "cell_type": "markdown",
   "metadata": {},
   "source": [
    "# Plot the difference!"
   ]
  },
  {
   "cell_type": "code",
   "execution_count": 13,
   "metadata": {},
   "outputs": [
    {
     "data": {
      "image/png": "[encoded data removed]",
      "text/plain": [
       "<Figure size 720x360 with 1 Axes>"
      ]
     },
     "metadata": {
      "needs_background": "light"
     },
     "output_type": "display_data"
    }
   ],
   "source": [
    "plt.figure(figsize=(10,5))\n",
    "\n",
    "plt.errorbar(x=levels, \n",
    "             y=DeltaF_ij[0]-np.mean(DeltaF_ij[0]), \n",
    "             yerr = dDeltaF_ij[0], fmt='-o', mfc='none', label='MBAR estimate')\n",
    "\n",
    "plt.plot(levels, \n",
    "             st.weights-np.mean(st.weights), '-o', mfc='white',label='GSST estimate')\n",
    "\n",
    "plt.title('PMF of Na-Cl separation calculated by MBAR or Wang-Landau+tempering')\n",
    "plt.legend()\n",
    "plt.ylabel('Free energy (kT)')\n",
    "plt.xlabel('Separation distance (nanometer)')\n",
    "plt.axhline(0, linestyle='--', c='k')\n",
    "\n",
    "plt.savefig('na_cl_pmf.png')"
   ]
  },
  {
   "cell_type": "markdown",
   "metadata": {},
   "source": [
    "# If making a gif of the wang-landau estimates approaching the MBAR estimate:"
   ]
  },
  {
   "cell_type": "code",
   "execution_count": 14,
   "metadata": {
    "scrolled": true
   },
   "outputs": [],
   "source": [
    "import pandas as pd\n",
    "pes = pd.read_csv('gsst.dat', sep='\\t')\n",
    "temp_pes = pes.iloc[np.linspace(0, len(pes)-1, 100).astype(int)]"
   ]
  },
  {
   "cell_type": "code",
   "execution_count": 15,
   "metadata": {},
   "outputs": [
    {
     "data": {
      "image/png": "[encoded data removed]",
      "text/plain": [
       "<Figure size 432x288 with 1 Axes>"
      ]
     },
     "metadata": {
      "needs_background": "light"
     },
     "output_type": "display_data"
    }
   ],
   "source": [
    "import matplotlib.animation as animation\n",
    "\n",
    "x = levels\n",
    "y = temp_pes.iloc[0,4:]\n",
    "\n",
    "fig, ax = plt.subplots()\n",
    "ax.errorbar(x=levels, y=DeltaF_ij[0]-DeltaF_ij[0].mean(), yerr = dDeltaF_ij[0])\n",
    "\n",
    "line, = ax.plot(x, y, color='k')\n",
    "ax.set_ylim(-4, 11)\n",
    "\n",
    "def update(num, x, df, line):\n",
    "\n",
    "    y = df.iloc[num, 4:]\n",
    "    line.set_data(x, y-y.mean())\n",
    "\n",
    "    return line,\n",
    "\n",
    "ani = animation.FuncAnimation(fig, update, frames=len(temp_pes), fargs=[x, temp_pes, line], blit=True)\n",
    "\n",
    "ani.save('wl_freenrg.gif',writer='imagemagick')\n",
    "#plt.show()"
   ]
  },
  {
   "cell_type": "code",
   "execution_count": null,
   "metadata": {},
   "outputs": [],
   "source": []
  }
 ],
 "metadata": {
  "kernelspec": {
   "display_name": "Python 3",
   "language": "python",
   "name": "python3"
  },
  "language_info": {
   "codemirror_mode": {
    "name": "ipython",
    "version": 3
   },
   "file_extension": ".py",
   "mimetype": "text/x-python",
   "name": "python",
   "nbconvert_exporter": "python",
   "pygments_lexer": "ipython3",
   "version": "3.7.8"
  }
 },
 "nbformat": 4,
 "nbformat_minor": 4
}
